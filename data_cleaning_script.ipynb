{
  "nbformat": 4,
  "nbformat_minor": 0,
  "metadata": {
    "colab": {
      "provenance": []
    },
    "kernelspec": {
      "name": "python3",
      "display_name": "Python 3"
    },
    "language_info": {
      "name": "python"
    }
  },
  "cells": [
    {
      "cell_type": "code",
      "source": [
        "import pandas as pd\n",
        "\n",
        "# Step 1: Load the CSV file\n",
        "file_path = 'Amazon Sale Report.csv'  # Replace with your file path\n",
        "output_path = 'cleaned_amazon_sale_report.csv'\n",
        "\n",
        "# Read the CSV file into a DataFrame\n",
        "df = pd.read_csv(file_path)\n",
        "\n",
        "# Step 2: Remove unwanted columns\n",
        "columns_to_remove = ['B2B', 'Unnamed: 22']\n",
        "df = df.drop(columns=columns_to_remove, errors='ignore')\n",
        "\n",
        "# Step 3: Change the date format\n",
        "# Assuming the 'Date' column is in 'MM-DD-YY' format\n",
        "df['Date'] = pd.to_datetime(df['Date'], format='%m-%d-%y', errors='coerce').dt.strftime('%Y-%m-%d')\n",
        "\n",
        "# Step 4: Remove rows with null values\n",
        "df = df.dropna()\n",
        "\n",
        "# Step 5: Save the cleaned DataFrame to a new CSV file\n",
        "df.to_csv(output_path, index=False)\n",
        "\n",
        "print(f\"Cleaned data saved to: {output_path}\")\n",
        "print(df.head())"
      ],
      "metadata": {
        "colab": {
          "base_uri": "https://localhost:8080/"
        },
        "id": "aevTOK9b2eO7",
        "outputId": "11a27ee0-25fe-4c84-d546-07df1ed7536b"
      },
      "execution_count": null,
      "outputs": [
        {
          "output_type": "stream",
          "name": "stderr",
          "text": [
            "<ipython-input-2-8ff970d85a2c>:8: DtypeWarning: Columns (23) have mixed types. Specify dtype option on import or set low_memory=False.\n",
            "  df = pd.read_csv(file_path)\n"
          ]
        },
        {
          "output_type": "stream",
          "name": "stdout",
          "text": [
            "Cleaned data saved to: cleaned_amazon_sale_report.csv\n",
            "    index             Order ID        Date                        Status  \\\n",
            "1       1  171-9198151-1101146  2022-04-30  Shipped - Delivered to Buyer   \n",
            "7       7  406-7807733-3785945  2022-04-30  Shipped - Delivered to Buyer   \n",
            "12     12  405-5513694-8146768  2022-04-30  Shipped - Delivered to Buyer   \n",
            "14     14  408-1298370-1920302  2022-04-30  Shipped - Delivered to Buyer   \n",
            "15     15  403-4965581-9520319  2022-04-30  Shipped - Delivered to Buyer   \n",
            "\n",
            "   Fulfilment Sales Channel  ship-service-level     Style              SKU  \\\n",
            "1    Merchant      Amazon.in           Standard   JNE3781  JNE3781-KR-XXXL   \n",
            "7    Merchant      Amazon.in           Standard   JNE3405     JNE3405-KR-S   \n",
            "12   Merchant      Amazon.in           Standard   JNE3405    JNE3405-KR-XS   \n",
            "14   Merchant      Amazon.in           Standard     J0351      J0351-SET-L   \n",
            "15   Merchant      Amazon.in           Standard  PJNE3368  PJNE3368-KR-6XL   \n",
            "\n",
            "   Category  ... Courier Status Qty currency  Amount  ship-city  \\\n",
            "1     kurta  ...        Shipped   1      INR   406.0  BENGALURU   \n",
            "7     kurta  ...        Shipped   1      INR   399.0  HYDERABAD   \n",
            "12    kurta  ...        Shipped   1      INR   399.0  Amravati.   \n",
            "14      Set  ...        Shipped   1      INR   771.0     MUMBAI   \n",
            "15    kurta  ...        Shipped   1      INR   544.0   GUNTAKAL   \n",
            "\n",
            "        ship-state ship-postal-code ship-country  \\\n",
            "1        KARNATAKA         560085.0           IN   \n",
            "7        TELANGANA         500032.0           IN   \n",
            "12     MAHARASHTRA         444606.0           IN   \n",
            "14     MAHARASHTRA         400053.0           IN   \n",
            "15  ANDHRA PRADESH         515801.0           IN   \n",
            "\n",
            "                                        promotion-ids fulfilled-by  \n",
            "1   Amazon PLCC Free-Financing Universal Merchant ...    Easy Ship  \n",
            "7   Amazon PLCC Free-Financing Universal Merchant ...    Easy Ship  \n",
            "12  Amazon PLCC Free-Financing Universal Merchant ...    Easy Ship  \n",
            "14  Amazon PLCC Free-Financing Universal Merchant ...    Easy Ship  \n",
            "15  Amazon PLCC Free-Financing Universal Merchant ...    Easy Ship  \n",
            "\n",
            "[5 rows x 22 columns]\n"
          ]
        }
      ]
    },
    {
      "cell_type": "code",
      "source": [
        "from google.colab import files\n",
        "\n",
        "# Download the cleaned file\n",
        "files.download('cleaned_amazon_sale_report.csv')\n"
      ],
      "metadata": {
        "colab": {
          "base_uri": "https://localhost:8080/",
          "height": 17
        },
        "id": "HTsmV8fk5Eva",
        "outputId": "abf695b3-35a6-4677-99f1-8ef79c2429b5"
      },
      "execution_count": null,
      "outputs": [
        {
          "output_type": "display_data",
          "data": {
            "text/plain": [
              "<IPython.core.display.Javascript object>"
            ],
            "application/javascript": [
              "\n",
              "    async function download(id, filename, size) {\n",
              "      if (!google.colab.kernel.accessAllowed) {\n",
              "        return;\n",
              "      }\n",
              "      const div = document.createElement('div');\n",
              "      const label = document.createElement('label');\n",
              "      label.textContent = `Downloading \"${filename}\": `;\n",
              "      div.appendChild(label);\n",
              "      const progress = document.createElement('progress');\n",
              "      progress.max = size;\n",
              "      div.appendChild(progress);\n",
              "      document.body.appendChild(div);\n",
              "\n",
              "      const buffers = [];\n",
              "      let downloaded = 0;\n",
              "\n",
              "      const channel = await google.colab.kernel.comms.open(id);\n",
              "      // Send a message to notify the kernel that we're ready.\n",
              "      channel.send({})\n",
              "\n",
              "      for await (const message of channel.messages) {\n",
              "        // Send a message to notify the kernel that we're ready.\n",
              "        channel.send({})\n",
              "        if (message.buffers) {\n",
              "          for (const buffer of message.buffers) {\n",
              "            buffers.push(buffer);\n",
              "            downloaded += buffer.byteLength;\n",
              "            progress.value = downloaded;\n",
              "          }\n",
              "        }\n",
              "      }\n",
              "      const blob = new Blob(buffers, {type: 'application/binary'});\n",
              "      const a = document.createElement('a');\n",
              "      a.href = window.URL.createObjectURL(blob);\n",
              "      a.download = filename;\n",
              "      div.appendChild(a);\n",
              "      a.click();\n",
              "      div.remove();\n",
              "    }\n",
              "  "
            ]
          },
          "metadata": {}
        },
        {
          "output_type": "display_data",
          "data": {
            "text/plain": [
              "<IPython.core.display.Javascript object>"
            ],
            "application/javascript": [
              "download(\"download_cf2b3db7-8be6-4104-b915-66ba34f85941\", \"cleaned_amazon_sale_report.csv\", 49577990)"
            ]
          },
          "metadata": {}
        }
      ]
    },
    {
      "cell_type": "code",
      "source": [
        "import pandas as pd\n",
        "from google.colab import files\n",
        "\n",
        "# Step 1: Load the CSV file\n",
        "file_path = 'Amazon Sale Report.csv'  # Replace with your uploaded file name\n",
        "df = pd.read_csv(file_path)\n",
        "\n",
        "# Step 2: Change the date format in the 'Date' column\n",
        "# Convert to datetime and change to 'YYYY-MM-DD'\n",
        "df['Date'] = pd.to_datetime(df['Date'], format='%m-%d-%y', errors='coerce').dt.strftime('%Y-%m-%d')\n",
        "\n",
        "# Step 3: Save the cleaned DataFrame to a new CSV file\n",
        "output_path = 'cleanedsalereport.csv'\n",
        "df.to_csv(output_path, index=False)\n",
        "\n",
        "# Step 4: Download the cleaned file\n",
        "files.download(output_path)\n",
        "\n",
        "print(\"File processed and downloaded successfully!\")\n"
      ],
      "metadata": {
        "colab": {
          "base_uri": "https://localhost:8080/",
          "height": 89
        },
        "id": "sJS9iS2j5ZVN",
        "outputId": "bf8ac1cb-0cc3-4527-d900-d258547e8250"
      },
      "execution_count": null,
      "outputs": [
        {
          "output_type": "stream",
          "name": "stderr",
          "text": [
            "<ipython-input-4-fce33f777b67>:6: DtypeWarning: Columns (23) have mixed types. Specify dtype option on import or set low_memory=False.\n",
            "  df = pd.read_csv(file_path)\n"
          ]
        },
        {
          "output_type": "display_data",
          "data": {
            "text/plain": [
              "<IPython.core.display.Javascript object>"
            ],
            "application/javascript": [
              "\n",
              "    async function download(id, filename, size) {\n",
              "      if (!google.colab.kernel.accessAllowed) {\n",
              "        return;\n",
              "      }\n",
              "      const div = document.createElement('div');\n",
              "      const label = document.createElement('label');\n",
              "      label.textContent = `Downloading \"${filename}\": `;\n",
              "      div.appendChild(label);\n",
              "      const progress = document.createElement('progress');\n",
              "      progress.max = size;\n",
              "      div.appendChild(progress);\n",
              "      document.body.appendChild(div);\n",
              "\n",
              "      const buffers = [];\n",
              "      let downloaded = 0;\n",
              "\n",
              "      const channel = await google.colab.kernel.comms.open(id);\n",
              "      // Send a message to notify the kernel that we're ready.\n",
              "      channel.send({})\n",
              "\n",
              "      for await (const message of channel.messages) {\n",
              "        // Send a message to notify the kernel that we're ready.\n",
              "        channel.send({})\n",
              "        if (message.buffers) {\n",
              "          for (const buffer of message.buffers) {\n",
              "            buffers.push(buffer);\n",
              "            downloaded += buffer.byteLength;\n",
              "            progress.value = downloaded;\n",
              "          }\n",
              "        }\n",
              "      }\n",
              "      const blob = new Blob(buffers, {type: 'application/binary'});\n",
              "      const a = document.createElement('a');\n",
              "      a.href = window.URL.createObjectURL(blob);\n",
              "      a.download = filename;\n",
              "      div.appendChild(a);\n",
              "      a.click();\n",
              "      div.remove();\n",
              "    }\n",
              "  "
            ]
          },
          "metadata": {}
        },
        {
          "output_type": "display_data",
          "data": {
            "text/plain": [
              "<IPython.core.display.Javascript object>"
            ],
            "application/javascript": [
              "download(\"download_e4a113b7-4811-4c72-b00c-2c7d1eb64f15\", \"cleanedsalereport.csv\", 69181378)"
            ]
          },
          "metadata": {}
        },
        {
          "output_type": "stream",
          "name": "stdout",
          "text": [
            "File processed and downloaded successfully!\n"
          ]
        }
      ]
    },
    {
      "cell_type": "code",
      "source": [
        "import pandas as pd\n",
        "from google.colab import files\n",
        "\n",
        "# Step 1: Load the CSV file\n",
        "file_path = 'Amazon Sale Report.csv'  # Replace with your file name\n",
        "df = pd.read_csv(file_path)\n",
        "\n",
        "# Step 2: Convert the 'Date' column to standard 'YYYY-MM-DD' format\n",
        "# This handles multiple date formats\n",
        "df['Date'] = pd.to_datetime(df['Date'], dayfirst=True, errors='coerce').dt.strftime('%Y-%m-%d')\n",
        "\n",
        "# Step 3: Save the cleaned DataFrame to a new CSV file\n",
        "output_path = 'cleanedreport.csv'\n",
        "df.to_csv(output_path, index=False)\n",
        "df.head()\n",
        "files.download(output_path)\n"
      ],
      "metadata": {
        "colab": {
          "base_uri": "https://localhost:8080/",
          "height": 124
        },
        "id": "h09ReGhA6Kq6",
        "outputId": "31de25b0-892f-4626-cf87-bd8553f1bed3"
      },
      "execution_count": null,
      "outputs": [
        {
          "output_type": "stream",
          "name": "stderr",
          "text": [
            "<ipython-input-8-3702df798049>:6: DtypeWarning: Columns (23) have mixed types. Specify dtype option on import or set low_memory=False.\n",
            "  df = pd.read_csv(file_path)\n",
            "<ipython-input-8-3702df798049>:10: UserWarning: Could not infer format, so each element will be parsed individually, falling back to `dateutil`. To ensure parsing is consistent and as-expected, please specify a format.\n",
            "  df['Date'] = pd.to_datetime(df['Date'], dayfirst=True, errors='coerce').dt.strftime('%Y-%m-%d')\n"
          ]
        },
        {
          "output_type": "display_data",
          "data": {
            "text/plain": [
              "<IPython.core.display.Javascript object>"
            ],
            "application/javascript": [
              "\n",
              "    async function download(id, filename, size) {\n",
              "      if (!google.colab.kernel.accessAllowed) {\n",
              "        return;\n",
              "      }\n",
              "      const div = document.createElement('div');\n",
              "      const label = document.createElement('label');\n",
              "      label.textContent = `Downloading \"${filename}\": `;\n",
              "      div.appendChild(label);\n",
              "      const progress = document.createElement('progress');\n",
              "      progress.max = size;\n",
              "      div.appendChild(progress);\n",
              "      document.body.appendChild(div);\n",
              "\n",
              "      const buffers = [];\n",
              "      let downloaded = 0;\n",
              "\n",
              "      const channel = await google.colab.kernel.comms.open(id);\n",
              "      // Send a message to notify the kernel that we're ready.\n",
              "      channel.send({})\n",
              "\n",
              "      for await (const message of channel.messages) {\n",
              "        // Send a message to notify the kernel that we're ready.\n",
              "        channel.send({})\n",
              "        if (message.buffers) {\n",
              "          for (const buffer of message.buffers) {\n",
              "            buffers.push(buffer);\n",
              "            downloaded += buffer.byteLength;\n",
              "            progress.value = downloaded;\n",
              "          }\n",
              "        }\n",
              "      }\n",
              "      const blob = new Blob(buffers, {type: 'application/binary'});\n",
              "      const a = document.createElement('a');\n",
              "      a.href = window.URL.createObjectURL(blob);\n",
              "      a.download = filename;\n",
              "      div.appendChild(a);\n",
              "      a.click();\n",
              "      div.remove();\n",
              "    }\n",
              "  "
            ]
          },
          "metadata": {}
        },
        {
          "output_type": "display_data",
          "data": {
            "text/plain": [
              "<IPython.core.display.Javascript object>"
            ],
            "application/javascript": [
              "download(\"download_3e615941-c772-44b2-b6ae-1355002d8d9e\", \"cleanedreport.csv\", 69181378)"
            ]
          },
          "metadata": {}
        }
      ]
    },
    {
      "cell_type": "code",
      "source": [
        "import pandas as pd\n",
        "from google.colab import files\n",
        "\n",
        "# Step 1: Load the CSV file\n",
        "file_path = 'Amazon Sale Report.csv'  # Replace with your uploaded file name\n",
        "df = pd.read_csv(file_path)\n",
        "\n",
        "# Step 2: Remove unwanted columns ('promotion_ids', 'B2B', and 'Unnamed: 22')\n",
        "columns_to_remove = ['promotion_ids', 'B2B', 'Unnamed: 22']  # Specify columns to drop\n",
        "df = df.drop(columns=columns_to_remove, errors='ignore')  # Remove the columns\n",
        "\n",
        "# Step 3: Convert the 'Date' column to 'YYYY-MM-DD' format\n",
        "df['Date'] = pd.to_datetime(df['Date'], dayfirst=True, errors='coerce').dt.strftime('%Y-%m-%d')\n",
        "\n",
        "# Step 4: Remove rows with null values\n",
        "df = df.dropna()\n",
        "\n",
        "# Step 5: Save the cleaned DataFrame to a new CSV file\n",
        "output_path = 'cleaned_amazon_sale_report.csv'\n",
        "df.to_csv(output_path, index=False)\n",
        "\n",
        "# Step 6: Download the cleaned file\n",
        "files.download(output_path)\n",
        "\n",
        "print(\"File cleaned, unwanted columns removed, and downloaded successfully!\")\n"
      ],
      "metadata": {
        "colab": {
          "base_uri": "https://localhost:8080/",
          "height": 124
        },
        "id": "ZBIRwZmM9yA0",
        "outputId": "db232e29-8c21-4dae-e1a8-428a649343ed"
      },
      "execution_count": null,
      "outputs": [
        {
          "output_type": "stream",
          "name": "stderr",
          "text": [
            "<ipython-input-14-5a94cdfa906a>:6: DtypeWarning: Columns (23) have mixed types. Specify dtype option on import or set low_memory=False.\n",
            "  df = pd.read_csv(file_path)\n",
            "<ipython-input-14-5a94cdfa906a>:13: UserWarning: Could not infer format, so each element will be parsed individually, falling back to `dateutil`. To ensure parsing is consistent and as-expected, please specify a format.\n",
            "  df['Date'] = pd.to_datetime(df['Date'], dayfirst=True, errors='coerce').dt.strftime('%Y-%m-%d')\n"
          ]
        },
        {
          "output_type": "display_data",
          "data": {
            "text/plain": [
              "<IPython.core.display.Javascript object>"
            ],
            "application/javascript": [
              "\n",
              "    async function download(id, filename, size) {\n",
              "      if (!google.colab.kernel.accessAllowed) {\n",
              "        return;\n",
              "      }\n",
              "      const div = document.createElement('div');\n",
              "      const label = document.createElement('label');\n",
              "      label.textContent = `Downloading \"${filename}\": `;\n",
              "      div.appendChild(label);\n",
              "      const progress = document.createElement('progress');\n",
              "      progress.max = size;\n",
              "      div.appendChild(progress);\n",
              "      document.body.appendChild(div);\n",
              "\n",
              "      const buffers = [];\n",
              "      let downloaded = 0;\n",
              "\n",
              "      const channel = await google.colab.kernel.comms.open(id);\n",
              "      // Send a message to notify the kernel that we're ready.\n",
              "      channel.send({})\n",
              "\n",
              "      for await (const message of channel.messages) {\n",
              "        // Send a message to notify the kernel that we're ready.\n",
              "        channel.send({})\n",
              "        if (message.buffers) {\n",
              "          for (const buffer of message.buffers) {\n",
              "            buffers.push(buffer);\n",
              "            downloaded += buffer.byteLength;\n",
              "            progress.value = downloaded;\n",
              "          }\n",
              "        }\n",
              "      }\n",
              "      const blob = new Blob(buffers, {type: 'application/binary'});\n",
              "      const a = document.createElement('a');\n",
              "      a.href = window.URL.createObjectURL(blob);\n",
              "      a.download = filename;\n",
              "      div.appendChild(a);\n",
              "      a.click();\n",
              "      div.remove();\n",
              "    }\n",
              "  "
            ]
          },
          "metadata": {}
        },
        {
          "output_type": "display_data",
          "data": {
            "text/plain": [
              "<IPython.core.display.Javascript object>"
            ],
            "application/javascript": [
              "download(\"download_a19c7698-4d93-49bb-8a8d-6ada566a1552\", \"cleaned_amazon_sale_report.csv\", 49577990)"
            ]
          },
          "metadata": {}
        },
        {
          "output_type": "stream",
          "name": "stdout",
          "text": [
            "File cleaned, unwanted columns removed, and downloaded successfully!\n"
          ]
        }
      ]
    },
    {
      "cell_type": "code",
      "source": [
        "import pandas as pd\n",
        "\n",
        "file_path = 'Amazon Sale Report.csv'\n",
        "\n",
        "# Read with autodetection\n",
        "df = pd.read_csv(file_path, sep=None, engine='python')\n",
        "print(f\"Detected delimiter: {df.columns}\")\n"
      ],
      "metadata": {
        "id": "6Ao2IbCdeeNY",
        "outputId": "71e0412a-22eb-4fe5-dd0e-85ff4013024e",
        "colab": {
          "base_uri": "https://localhost:8080/"
        }
      },
      "execution_count": null,
      "outputs": [
        {
          "output_type": "stream",
          "name": "stdout",
          "text": [
            "Detected delimiter: Index(['index', 'Order ID', 'Date', 'Status', 'Fulfilment', 'Sales Channel ',\n",
            "       'ship-service-level', 'Style', 'SKU', 'Category', 'Size', 'ASIN',\n",
            "       'Courier Status', 'Qty', 'currency', 'Amount', 'ship-city',\n",
            "       'ship-state', 'ship-postal-code', 'ship-country', 'promotion-ids',\n",
            "       'B2B', 'fulfilled-by', 'Unnamed: 22'],\n",
            "      dtype='object')\n"
          ]
        }
      ]
    }
  ]
}