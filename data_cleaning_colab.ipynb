
import pandas as pd
from google.colab import files

# Load CSV file
file_path = 'Amazon Sale Report.csv'  # Change this as needed
df = pd.read_csv(file_path)

# Remove unwanted columns
drop_columns = ['promotion_ids', 'B2B', 'Unnamed: 22']
df.drop(columns=drop_columns, errors='ignore', inplace=True)

# Convert Date column to standardized format
df['Date'] = pd.to_datetime(df['Date'], dayfirst=True, errors='coerce').dt.strftime('%Y-%m-%d')

# Drop null values
df.dropna(inplace=True)

# Save cleaned file
output_path = 'cleaned_amazon_sale_report.csv'
df.to_csv(output_path, index=False)

# Download cleaned file
files.download(output_path)
print("File cleaned and downloaded successfully!")
